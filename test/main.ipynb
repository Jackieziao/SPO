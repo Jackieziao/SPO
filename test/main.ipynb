{
 "cells": [
  {
   "cell_type": "code",
   "execution_count": null,
   "metadata": {},
   "outputs": [],
   "source": [
    "from function_library import *\n",
    "from reformulation_library import *\n",
    "from main_library import *"
   ]
  },
  {
   "cell_type": "code",
   "execution_count": null,
   "metadata": {},
   "outputs": [],
   "source": [
    "# Small size test\n",
    "# Fixed parameter settings (these never change)\n",
    "p_features = 5\n",
    "grid_dim = 5\n",
    "num_trials = 3\n",
    "n_test = 10000\n",
    "\n",
    "num_lambda = 10\n",
    "lambda_max = 100\n",
    "lambda_min_ratio = 10 ** (-8)\n",
    "holdout_percent = 0.25\n",
    "regularization = 'lasso'\n",
    "different_validation_losses = False\n",
    "\n",
    "\n",
    "# Fixed parameter sets (these are also the same for all experiments)\n",
    "n_train_vec = [100, 1000]\n",
    "polykernel_degree_vec = [1, 2, 4, 6, 8]\n",
    "polykernel_noise_half_width_vec = [0, 0.5]\n",
    "\n",
    "# Set this to get reproducible results\n",
    "rng_seed = 5352\n",
    "expt_results = shortest_path_multiple_replications(rng_seed, num_trials, grid_dim,\n",
    "    n_train_vec, n_test,\n",
    "    p_features, polykernel_degree_vec, polykernel_noise_half_width_vec,\n",
    "    num_lambda = num_lambda, lambda_max = lambda_max, lambda_min_ratio = lambda_min_ratio,\n",
    "    holdout_percent = holdout_percent, regularization = regularization,\n",
    "    different_validation_losses = different_validation_losses)\n",
    "expt_results['SPOplus_spoloss_test'] = expt_results['SPOplus_spoloss_test'].apply(lambda x: pd.Series(x).astype(float))\n",
    "expt_results['LS_spoloss_test'] = expt_results['LS_spoloss_test'].apply(lambda x: pd.Series(x).astype(float))\n",
    "expt_results['RF_spoloss_test'] = expt_results['RF_spoloss_test'].apply(lambda x: pd.Series(x).astype(float))\n",
    "expt_results['Absolute_spoloss_test'] = expt_results['Absolute_spoloss_test'].apply(lambda x: pd.Series(x).astype(float))\n",
    "csv_string = \"shortest_path_100_1000.csv\"\n",
    "expt_results.to_csv(csv_string, index=False)"
   ]
  },
  {
   "cell_type": "code",
   "execution_count": 2,
   "metadata": {},
   "outputs": [],
   "source": [
    "# Big size test\n",
    "# Fixed parameter settings (these never change)\n",
    "p_features = 5\n",
    "grid_dim = 5\n",
    "num_trials = 5\n",
    "n_test = 10000\n",
    "\n",
    "num_lambda = 1\n",
    "lambda_max = 0\n",
    "lambda_min_ratio = 1\n",
    "holdout_percent = 0.25\n",
    "regularization = 'lasso'\n",
    "different_validation_losses = False\n",
    "include_rf = True\n",
    "\n",
    "\n",
    "# Fixed parameter sets (these are also the same for all experiments)\n",
    "n_train_vec = [5000]\n",
    "polykernel_degree_vec = [1, 2, 4, 6]\n",
    "polykernel_noise_half_width_vec = [0, 0.5]\n",
    "# Set this to get reproducible results\n",
    "rng_seed = 5352\n",
    "expt_results_large = shortest_path_multiple_replications(rng_seed, num_trials, grid_dim,\n",
    "    n_train_vec, n_test,\n",
    "    p_features, polykernel_degree_vec, polykernel_noise_half_width_vec,\n",
    "    num_lambda = num_lambda, lambda_max = lambda_max, lambda_min_ratio = lambda_min_ratio,\n",
    "    holdout_percent = holdout_percent, regularization = regularization,\n",
    "    different_validation_losses = different_validation_losses)\n",
    "expt_results_large['SPOplus_spoloss_test'] = expt_results_large['SPOplus_spoloss_test'].apply(lambda x: pd.Series(x).astype(float))\n",
    "expt_results_large['LS_spoloss_test'] = expt_results_large['LS_spoloss_test'].apply(lambda x: pd.Series(x).astype(float))\n",
    "expt_results_large['RF_spoloss_test'] = expt_results_large['RF_spoloss_test'].apply(lambda x: pd.Series(x).astype(float))\n",
    "expt_results_large['Absolute_spoloss_test'] = expt_results_large['Absolute_spoloss_test'].apply(lambda x: pd.Series(x).astype(float))\n",
    "csv_string = \"shortest_path_5000.csv\"\n",
    "expt_results_large.to_csv(csv_string, index=False)"
   ]
  }
 ],
 "metadata": {
  "kernelspec": {
   "display_name": "envtwo",
   "language": "python",
   "name": "python3"
  },
  "language_info": {
   "codemirror_mode": {
    "name": "ipython",
    "version": 3
   },
   "file_extension": ".py",
   "mimetype": "text/x-python",
   "name": "python",
   "nbconvert_exporter": "python",
   "pygments_lexer": "ipython3",
   "version": "3.8.13"
  },
  "orig_nbformat": 4
 },
 "nbformat": 4,
 "nbformat_minor": 2
}
