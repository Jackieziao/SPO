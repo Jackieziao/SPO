{
 "cells": [
  {
   "cell_type": "code",
   "execution_count": null,
   "metadata": {},
   "outputs": [],
   "source": [
    "from function_library import *\n",
    "from reformulation_library import *"
   ]
  },
  {
   "cell_type": "code",
   "execution_count": null,
   "metadata": {},
   "outputs": [],
   "source": [
    "different_validation_losses = False\n",
    "n_holdout = 1000\n",
    "n_test = 1000\n",
    "grid_dim = 5\n",
    "p_features = 5\n",
    "n_train = 1000\n",
    "polykernel_degree = 1\n",
    "polykernel_noise_half_width = 0\n",
    "d_feasibleregion = 2 * p_features * (p_features - 1)\n",
    "sources, destinations = convert_grid_to_list(grid_dim, grid_dim)\n",
    "sp_graph = shortest_path_graph(sources = sources, destinations = destinations,\n",
    "        start_node = 1, end_node = grid_dim^2, acyclic = True)\n",
    "B_true = np.array([[bernoulli(0.5) for k in range(p_features)] for e in range(d_feasibleregion)])\n",
    "X_train, c_train = generate_poly_kernel_data_simple(B_true, n_train, polykernel_degree, polykernel_noise_half_width)\n",
    "X_validation, c_validation = generate_poly_kernel_data_simple(B_true, n_holdout, polykernel_degree, polykernel_noise_half_width)\n",
    "X_test, c_test = generate_poly_kernel_data_simple(B_true, n_test, polykernel_degree, polykernel_noise_half_width)"
   ]
  },
  {
   "cell_type": "code",
   "execution_count": 13,
   "metadata": {},
   "outputs": [],
   "source": [
    "from sklearn.ensemble import RandomForestRegressor\n",
    "\n",
    "\n",
    "@dataclass\n",
    "class rf_graph:\n",
    "    num_trees : int = 100\n",
    "    num_features_per_split : int = -1\n",
    "\n",
    "def train_random_forests_po(X: np.ndarray, c: np.ndarray, rf_alg_parms=rf_graph()):\n",
    "    num_trees = rf_alg_parms.__dict__['num_trees']\n",
    "    num_features_per_split = rf_alg_parms.__dict__['num_features_per_split']\n",
    "\n",
    "    p, n = X.shape\n",
    "    d, n2 = c.shape\n",
    "    if n != n2:\n",
    "        raise ValueError(\"Dimensions of the input are mismatched.\")\n",
    "    X_t = X.T\n",
    "    # If num_features_per_split is not specified, use default for regression\n",
    "    if num_features_per_split < 1:\n",
    "        num_features_per_split = int(np.ceil(p/3))\n",
    "\n",
    "    rf_model_list = []\n",
    "\n",
    "    # train one model for each component\n",
    "    for j in range(d):\n",
    "        c_vec = c[j, :]\n",
    "        rf_model = RandomForestRegressor(n_estimators=num_trees, max_features=num_features_per_split)\n",
    "        rf_model.fit(X_t, c_vec)\n",
    "        rf_model_list.append(rf_model)\n",
    "\n",
    "    return rf_model_list\n",
    "import numpy as np\n",
    "\n",
    "def predict_random_forests_po(rf_model_list, X_new):\n",
    "    p, n = X_new.shape\n",
    "    d = len(rf_model_list)\n",
    "    X_new_t = X_new.T\n",
    "    preds = np.zeros((d, n))\n",
    "    for j in range(d):\n",
    "        preds[j, :] = rf_model_list[j].predict(X_new_t)\n",
    "    return preds\n"
   ]
  },
  {
   "cell_type": "code",
   "execution_count": 14,
   "metadata": {},
   "outputs": [],
   "source": [
    "rf_model_list = train_random_forests_po(X_train, c_train, rf_graph(num_trees = 100, num_features_per_split = 2))\n",
    "c_pred = predict_random_forests_po(rf_model_list, X_test)"
   ]
  }
 ],
 "metadata": {
  "kernelspec": {
   "display_name": "envtwo",
   "language": "python",
   "name": "python3"
  },
  "language_info": {
   "codemirror_mode": {
    "name": "ipython",
    "version": 3
   },
   "file_extension": ".py",
   "mimetype": "text/x-python",
   "name": "python",
   "nbconvert_exporter": "python",
   "pygments_lexer": "ipython3",
   "version": "3.8.13"
  },
  "orig_nbformat": 4
 },
 "nbformat": 4,
 "nbformat_minor": 2
}
